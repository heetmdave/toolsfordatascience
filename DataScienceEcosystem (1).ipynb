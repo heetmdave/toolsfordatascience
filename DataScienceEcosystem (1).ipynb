{
 "cells": [
  {
   "cell_type": "markdown",
   "id": "82da1aef",
   "metadata": {},
   "source": [
    "<h1>Data Science Tools and Ecosystem</h1>"
   ]
  },
  {
   "cell_type": "markdown",
   "id": "a54043ca",
   "metadata": {},
   "source": [
    "In this notebook, Data Science Tools and Ecosystem are summarized."
   ]
  },
  {
   "cell_type": "markdown",
   "id": "4a673720",
   "metadata": {},
   "source": [
    "the popular languages for data science:\n",
    "<ol>\n",
    "    <li>python</li>\n",
    "    <li>r</li>\n",
    "    <li>julia</li>\n",
    "    <li>java</li>\n",
    "    <li>java scipt</li>\n",
    "    <li>scala</li>\n",
    "    <li>sql</li>\n",
    "    <li>nosql</li>\n",
    "    <li>hadoop</li>\n",
    "    <li>go</li>\n",
    "</ol>"
   ]
  },
  {
   "cell_type": "markdown",
   "id": "68cdd302",
   "metadata": {},
   "source": [
    "</b>Objectives:</b>\n",
    "<ul>\n",
    "    <li>popular languages for data science</li>\n",
    "    <li>popular libraries for data science</li>\n",
    "    <li>popular tools for data science</li>\n",
    "    \n",
    "</ul>"
   ]
  },
  {
   "cell_type": "markdown",
   "id": "235e4a11",
   "metadata": {},
   "source": [
    "the libraries used in data science :\n",
    "<ol>\n",
    "    <li>pandas</li>\n",
    "    <li>numpy</li>\n",
    "    <li>matpplotlib</li>\n",
    "    <li>sklearn</li>\n",
    "    <li>scipy</li>\n",
    "    <li>tensorflow</li>\n",
    "    <li>networkx</li>\n",
    "    \n",
    "</ol>"
   ]
  },
  {
   "cell_type": "markdown",
   "id": "dbd349d7",
   "metadata": {},
   "source": [
    "<table>\n",
    "    <tr><th>Data Science Tools</th></tr>\n",
    "    <tr><td>jupyter notbook</td></tr>\n",
    "    <tr><td>rstudio</td></tr>\n",
    "    <tr><td>watson studio</td></tr>\n",
    "    <tr><td>sql server</td></tr>\n",
    "    <tr><td>spss</td></tr>\n",
    "    <tr><td>spss statastics</td></tr>\n",
    "</table>"
   ]
  },
  {
   "cell_type": "markdown",
   "id": "e269a20c",
   "metadata": {},
   "source": [
    "<h3>Below are a few examples of evaluating arithmetic expressions in Python</h3>"
   ]
  },
  {
   "cell_type": "code",
   "execution_count": 1,
   "id": "5bdaf890",
   "metadata": {},
   "outputs": [
    {
     "name": "stdout",
     "output_type": "stream",
     "text": [
      "17\n"
     ]
    }
   ],
   "source": [
    "#This a simple arithmetic expression to mutiply then add integers\n",
    "print((3*4)+5)"
   ]
  },
  {
   "cell_type": "code",
   "execution_count": 3,
   "id": "560175ca",
   "metadata": {},
   "outputs": [
    {
     "name": "stdout",
     "output_type": "stream",
     "text": [
      "3.3333333333333335 hours\n"
     ]
    }
   ],
   "source": [
    "#This will convert 200 minutes to hours by diving by 60\n",
    "print(200/60,\"hours\")"
   ]
  },
  {
   "cell_type": "markdown",
   "id": "8bf7b9be",
   "metadata": {},
   "source": [
    "<h2>Author<br></h2>\n",
    "Heet Dave"
   ]
  },
  {
   "cell_type": "code",
   "execution_count": null,
   "id": "5d73436a",
   "metadata": {},
   "outputs": [],
   "source": []
  }
 ],
 "metadata": {
  "kernelspec": {
   "display_name": "Python 3",
   "language": "python",
   "name": "python3"
  },
  "language_info": {
   "codemirror_mode": {
    "name": "ipython",
    "version": 3
   },
   "file_extension": ".py",
   "mimetype": "text/x-python",
   "name": "python",
   "nbconvert_exporter": "python",
   "pygments_lexer": "ipython3",
   "version": "3.8.8"
  }
 },
 "nbformat": 4,
 "nbformat_minor": 5
}
