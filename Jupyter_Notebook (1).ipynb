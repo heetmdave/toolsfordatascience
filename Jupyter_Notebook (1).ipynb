{
 "cells": [
  {
   "cell_type": "markdown",
   "metadata": {},
   "source": [
    "<center>\n",
    "    <img src=\"https://cf-courses-data.s3.us.cloud-object-storage.appdomain.cloud/IBMDeveloperSkillsNetwork-DS0105EN-SkillsNetwork/labs/Module2/images/SN_web_lightmode.png\" width=\"300\" alt=\"cognitiveclass.ai logo\">\n",
    "</center>\n"
   ]
  },
  {
   "cell_type": "markdown",
   "metadata": {},
   "source": [
    "#### Add your code below following the instructions given in the course"
   ]
  },
  {
   "cell_type": "markdown",
   "metadata": {},
   "source": [
    "# My Jupyter Notebook on IBM Watson Studio"
   ]
  },
  {
   "cell_type": "markdown",
   "metadata": {},
   "source": [
    "__HEET DAVE__\n",
    "_Data scientist_"
   ]
  },
  {
   "cell_type": "markdown",
   "metadata": {},
   "source": [
    "_I am interested in data science because data science has potential to change the world completely . data science is need of almost every fild._"
   ]
  },
  {
   "cell_type": "markdown",
   "metadata": {},
   "source": [
    "### this is code to compute and print squreroot of 144"
   ]
  },
  {
   "cell_type": "code",
   "execution_count": 3,
   "metadata": {},
   "outputs": [
    {
     "name": "stdout",
     "output_type": "stream",
     "text": [
      "12.0\n"
     ]
    }
   ],
   "source": [
    "import math\n",
    "print(math.sqrt(144))"
   ]
  },
  {
   "cell_type": "markdown",
   "metadata": {},
   "source": [
    "<a herf=\"https://en.wikipedia.org/wiki/IBM_Db2\">link to IBM DB2 wikipedia</a>\n",
    "<ul>unorderd list\n",
    "    <li>apache server</li>\n",
    "    <li>watson studio</li>\n",
    "</ul>\n",
    "<ol>unorderd list\n",
    "    <li>apache server</li>\n",
    "    <li>watson studio</li>\n",
    "</ol>\n",
    "<img src=\"https://en.wikipedia.org/wiki/IBM_Db2#/media/File:IBM_logo.svg\">"
   ]
  },
  {
   "cell_type": "markdown",
   "metadata": {},
   "source": [
    "<html>\n",
    "    <head></head>\n",
    "    <body>\n",
    "           <table border=\"2\">\n",
    "               table:\n",
    "                <tr>\n",
    "                    <th>python</th>\n",
    "                    <th>r</th>\n",
    "                    <th>juliya</th>\n",
    "                </tr>\n",
    "                <tr>\n",
    "                    <th>spyder</th>\n",
    "                    <th>rstudio</th>\n",
    "                    <th>vs code</th>\n",
    "                </tr>\n",
    "</table>\n",
    "        </body>\n",
    "</html>"
   ]
  }
 ],
 "metadata": {
  "kernelspec": {
   "display_name": "Python 3",
   "language": "python",
   "name": "python3"
  },
  "language_info": {
   "codemirror_mode": {
    "name": "ipython",
    "version": 3
   },
   "file_extension": ".py",
   "mimetype": "text/x-python",
   "name": "python",
   "nbconvert_exporter": "python",
   "pygments_lexer": "ipython3",
   "version": "3.8.8"
  }
 },
 "nbformat": 4,
 "nbformat_minor": 4
}
